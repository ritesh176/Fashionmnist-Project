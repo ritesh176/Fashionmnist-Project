{
 "cells": [
  {
   "cell_type": "code",
   "execution_count": 1,
   "id": "3d5f2cc8",
   "metadata": {
    "_cell_guid": "b1076dfc-b9ad-4769-8c92-a6c4dae69d19",
    "_uuid": "8f2839f25d086af736a60e9eeb907d3b93b6e0e5",
    "execution": {
     "iopub.execute_input": "2021-07-27T12:33:19.287156Z",
     "iopub.status.busy": "2021-07-27T12:33:19.286249Z",
     "iopub.status.idle": "2021-07-27T12:33:25.992549Z",
     "shell.execute_reply": "2021-07-27T12:33:25.991781Z",
     "shell.execute_reply.started": "2021-07-27T08:24:35.096192Z"
    },
    "papermill": {
     "duration": 6.73427,
     "end_time": "2021-07-27T12:33:25.992775",
     "exception": false,
     "start_time": "2021-07-27T12:33:19.258505",
     "status": "completed"
    },
    "tags": []
   },
   "outputs": [
    {
     "name": "stdout",
     "output_type": "stream",
     "text": [
      "2.1.0\n"
     ]
    }
   ],
   "source": [
    "import tensorflow as tf\n",
    "import numpy as np\n",
    "import matplotlib.pyplot as plt\n",
    "print(tf.__version__)"
   ]
  },
  {
   "cell_type": "code",
   "execution_count": 2,
   "id": "c3af361d",
   "metadata": {
    "execution": {
     "iopub.execute_input": "2021-07-27T12:33:26.028085Z",
     "iopub.status.busy": "2021-07-27T12:33:26.027359Z",
     "iopub.status.idle": "2021-07-27T12:33:27.507863Z",
     "shell.execute_reply": "2021-07-27T12:33:27.508380Z",
     "shell.execute_reply.started": "2021-07-27T08:24:40.700666Z"
    },
    "papermill": {
     "duration": 1.500752,
     "end_time": "2021-07-27T12:33:27.508570",
     "exception": false,
     "start_time": "2021-07-27T12:33:26.007818",
     "status": "completed"
    },
    "tags": []
   },
   "outputs": [],
   "source": [
    "fashion_mnist=tf.keras.datasets.fashion_mnist\n",
    "(train_images, train_labels), (test_images, test_labels) = fashion_mnist.load_data()\n",
    "class_names = ['T-shirt/top', 'Trouser', 'Pullover', 'Dress', 'Coat',\n",
    "               'Sandal', 'Shirt', 'Sneaker', 'Bag', 'Ankle boot']"
   ]
  },
  {
   "cell_type": "code",
   "execution_count": 3,
   "id": "78ec2a14",
   "metadata": {
    "execution": {
     "iopub.execute_input": "2021-07-27T12:33:27.546282Z",
     "iopub.status.busy": "2021-07-27T12:33:27.545597Z",
     "iopub.status.idle": "2021-07-27T12:33:27.552944Z",
     "shell.execute_reply": "2021-07-27T12:33:27.553427Z",
     "shell.execute_reply.started": "2021-07-27T08:24:42.477585Z"
    },
    "papermill": {
     "duration": 0.027676,
     "end_time": "2021-07-27T12:33:27.553607",
     "exception": false,
     "start_time": "2021-07-27T12:33:27.525931",
     "status": "completed"
    },
    "tags": []
   },
   "outputs": [
    {
     "data": {
      "text/plain": [
       "(60000, 28, 28)"
      ]
     },
     "execution_count": 3,
     "metadata": {},
     "output_type": "execute_result"
    }
   ],
   "source": [
    "train_images.shape"
   ]
  },
  {
   "cell_type": "code",
   "execution_count": 4,
   "id": "e4996141",
   "metadata": {
    "execution": {
     "iopub.execute_input": "2021-07-27T12:33:27.591982Z",
     "iopub.status.busy": "2021-07-27T12:33:27.591245Z",
     "iopub.status.idle": "2021-07-27T12:33:27.595914Z",
     "shell.execute_reply": "2021-07-27T12:33:27.596434Z",
     "shell.execute_reply.started": "2021-07-27T08:24:42.492152Z"
    },
    "papermill": {
     "duration": 0.025533,
     "end_time": "2021-07-27T12:33:27.596640",
     "exception": false,
     "start_time": "2021-07-27T12:33:27.571107",
     "status": "completed"
    },
    "tags": []
   },
   "outputs": [
    {
     "data": {
      "text/plain": [
       "(10000, 28, 28)"
      ]
     },
     "execution_count": 4,
     "metadata": {},
     "output_type": "execute_result"
    }
   ],
   "source": [
    "test_images.shape"
   ]
  },
  {
   "cell_type": "code",
   "execution_count": 5,
   "id": "fcfd1065",
   "metadata": {
    "execution": {
     "iopub.execute_input": "2021-07-27T12:33:27.636026Z",
     "iopub.status.busy": "2021-07-27T12:33:27.635325Z",
     "iopub.status.idle": "2021-07-27T12:33:27.883790Z",
     "shell.execute_reply": "2021-07-27T12:33:27.884313Z",
     "shell.execute_reply.started": "2021-07-27T08:24:42.500565Z"
    },
    "papermill": {
     "duration": 0.269459,
     "end_time": "2021-07-27T12:33:27.884492",
     "exception": false,
     "start_time": "2021-07-27T12:33:27.615033",
     "status": "completed"
    },
    "tags": []
   },
   "outputs": [
    {
     "data": {
      "image/png": "[encoded data removed]",
      "text/plain": [
       "<Figure size 432x288 with 2 Axes>"
      ]
     },
     "metadata": {
      "needs_background": "light"
     },
     "output_type": "display_data"
    }
   ],
   "source": [
    "plt.figure()\n",
    "plt.imshow(train_images[0])\n",
    "plt.colorbar()\n",
    "plt.grid(False)\n",
    "plt.show()"
   ]
  },
  {
   "cell_type": "code",
   "execution_count": 6,
   "id": "234bf126",
   "metadata": {
    "execution": {
     "iopub.execute_input": "2021-07-27T12:33:27.929329Z",
     "iopub.status.busy": "2021-07-27T12:33:27.927790Z",
     "iopub.status.idle": "2021-07-27T12:33:28.117441Z",
     "shell.execute_reply": "2021-07-27T12:33:28.116752Z",
     "shell.execute_reply.started": "2021-07-27T08:24:42.74272Z"
    },
    "papermill": {
     "duration": 0.214016,
     "end_time": "2021-07-27T12:33:28.117603",
     "exception": false,
     "start_time": "2021-07-27T12:33:27.903587",
     "status": "completed"
    },
    "tags": []
   },
   "outputs": [],
   "source": [
    "train_images=train_images/255.0\n",
    "test_images=test_images/255.0"
   ]
  },
  {
   "cell_type": "code",
   "execution_count": 7,
   "id": "73365085",
   "metadata": {
    "execution": {
     "iopub.execute_input": "2021-07-27T12:33:28.179186Z",
     "iopub.status.busy": "2021-07-27T12:33:28.178395Z",
     "iopub.status.idle": "2021-07-27T12:33:29.261708Z",
     "shell.execute_reply": "2021-07-27T12:33:29.261096Z",
     "shell.execute_reply.started": "2021-07-27T08:24:42.93449Z"
    },
    "papermill": {
     "duration": 1.125053,
     "end_time": "2021-07-27T12:33:29.261858",
     "exception": false,
     "start_time": "2021-07-27T12:33:28.136805",
     "status": "completed"
    },
    "tags": []
   },
   "outputs": [
    {
     "data": {
      "image/png": "[encoded data removed]",
      "text/plain": [
       "<Figure size 720x720 with 20 Axes>"
      ]
     },
     "metadata": {},
     "output_type": "display_data"
    }
   ],
   "source": [
    "plt.figure(figsize=(10,10))\n",
    "for i in range(20):\n",
    "    plt.subplot(5,5,i+1)\n",
    "    plt.xticks([])\n",
    "    plt.yticks([])\n",
    "    plt.grid(False)\n",
    "    plt.imshow(train_images[i], cmap=plt.cm.binary)\n",
    "    plt.xlabel(class_names[train_labels[i]])\n",
    "plt.show()\n"
   ]
  },
  {
   "cell_type": "code",
   "execution_count": 10,
   "id": "84fe4c34",
   "metadata": {
    "execution": {
     "iopub.execute_input": "2021-07-27T12:33:29.310317Z",
     "iopub.status.busy": "2021-07-27T12:33:29.309554Z",
     "iopub.status.idle": "2021-07-27T12:33:29.425746Z",
     "shell.execute_reply": "2021-07-27T12:33:29.425042Z",
     "shell.execute_reply.started": "2021-07-27T08:24:43.999247Z"
    },
    "papermill": {
     "duration": 0.143353,
     "end_time": "2021-07-27T12:33:29.425891",
     "exception": false,
     "start_time": "2021-07-27T12:33:29.282538",
     "status": "completed"
    },
    "tags": []
   },
   "outputs": [],
   "source": [
    "train_images = train_images.reshape(train_images.shape[0], 28, 28, 1).astype('float32')\n",
    "test_images = test_images.reshape(test_images.shape[0], 28, 28, 1).astype('float32')"
   ]
  },
  {
   "cell_type": "code",
   "execution_count": 11,
   "id": "7b5cada3",
   "metadata": {
    "execution": {
     "iopub.execute_input": "2021-07-27T12:33:29.477695Z",
     "iopub.status.busy": "2021-07-27T12:33:29.476877Z",
     "iopub.status.idle": "2021-07-27T12:33:29.632739Z",
     "shell.execute_reply": "2021-07-27T12:33:29.632025Z",
     "shell.execute_reply.started": "2021-07-27T08:24:44.115759Z"
    },
    "papermill": {
     "duration": 0.185105,
     "end_time": "2021-07-27T12:33:29.632899",
     "exception": false,
     "start_time": "2021-07-27T12:33:29.447794",
     "status": "completed"
    },
    "tags": []
   },
   "outputs": [],
   "source": [
    "model=tf.keras.Sequential([\n",
    "    tf.keras.layers.Conv2D(64,(3,3),activation='relu',input_shape=(28,28,1)),\n",
    "    tf.keras.layers.MaxPooling2D(2,2),\n",
    "    tf.keras.layers.Conv2D(64,(3,3),activation='relu'),\n",
    "    tf.keras.layers.MaxPooling2D(2,2),\n",
    "    tf.keras.layers.Flatten(),\n",
    "    #tf.keras.layers.Dense(128,activation= tf.keras.layers.LeakyReLU(alpha=0.3)),\n",
    "    tf.keras.layers.Dense(128,activation='relu'),\n",
    "    tf.keras.layers.Dropout(0.5),\n",
    "    tf.keras.layers.Dense(64,activation='relu'),\n",
    "    tf.keras.layers.Dropout(0.5),\n",
    "    tf.keras.layers.Dense(10,activation='softmax'),\n",
    "])"
   ]
  },
  {
   "cell_type": "code",
   "execution_count": 12,
   "id": "4db57788",
   "metadata": {
    "execution": {
     "iopub.execute_input": "2021-07-27T12:33:29.732162Z",
     "iopub.status.busy": "2021-07-27T12:33:29.728768Z",
     "iopub.status.idle": "2021-07-27T12:33:29.753457Z",
     "shell.execute_reply": "2021-07-27T12:33:29.752514Z",
     "shell.execute_reply.started": "2021-07-27T08:24:44.267629Z"
    },
    "papermill": {
     "duration": 0.051706,
     "end_time": "2021-07-27T12:33:29.753697",
     "exception": false,
     "start_time": "2021-07-27T12:33:29.701991",
     "status": "completed"
    },
    "tags": []
   },
   "outputs": [],
   "source": [
    "model.compile(optimizer='adam',\n",
    "             loss=tf.keras.losses.SparseCategoricalCrossentropy(from_logits=True),\n",
    "             metrics=['accuracy'])"
   ]
  },
  {
   "cell_type": "code",
   "execution_count": 13,
   "id": "dafbdd82",
   "metadata": {
    "execution": {
     "iopub.execute_input": "2021-07-27T12:33:29.817494Z",
     "iopub.status.busy": "2021-07-27T12:33:29.816732Z",
     "iopub.status.idle": "2021-07-27T12:33:29.826718Z",
     "shell.execute_reply": "2021-07-27T12:33:29.827509Z",
     "shell.execute_reply.started": "2021-07-27T08:24:44.296052Z"
    },
    "papermill": {
     "duration": 0.047274,
     "end_time": "2021-07-27T12:33:29.827778",
     "exception": false,
     "start_time": "2021-07-27T12:33:29.780504",
     "status": "completed"
    },
    "tags": []
   },
   "outputs": [
    {
     "name": "stdout",
     "output_type": "stream",
     "text": [
      "Model: \"sequential_1\"\n",
      "_________________________________________________________________\n",
      "Layer (type)                 Output Shape              Param #   \n",
      "=================================================================\n",
      "conv2d_2 (Conv2D)            (None, 26, 26, 64)        640       \n",
      "_________________________________________________________________\n",
      "max_pooling2d_2 (MaxPooling2 (None, 13, 13, 64)        0         \n",
      "_________________________________________________________________\n",
      "conv2d_3 (Conv2D)            (None, 11, 11, 64)        36928     \n",
      "_________________________________________________________________\n",
      "max_pooling2d_3 (MaxPooling2 (None, 5, 5, 64)          0         \n",
      "_________________________________________________________________\n",
      "flatten_1 (Flatten)          (None, 1600)              0         \n",
      "_________________________________________________________________\n",
      "dense_3 (Dense)              (None, 128)               204928    \n",
      "_________________________________________________________________\n",
      "dropout_2 (Dropout)          (None, 128)               0         \n",
      "_________________________________________________________________\n",
      "dense_4 (Dense)              (None, 64)                8256      \n",
      "_________________________________________________________________\n",
      "dropout_3 (Dropout)          (None, 64)                0         \n",
      "_________________________________________________________________\n",
      "dense_5 (Dense)              (None, 10)                650       \n",
      "=================================================================\n",
      "Total params: 251,402\n",
      "Trainable params: 251,402\n",
      "Non-trainable params: 0\n",
      "_________________________________________________________________\n"
     ]
    }
   ],
   "source": [
    "model.summary()"
   ]
  },
  {
   "cell_type": "code",
   "execution_count": 14,
   "id": "5e2ec091",
   "metadata": {
    "execution": {
     "iopub.execute_input": "2021-07-27T12:33:29.880412Z",
     "iopub.status.busy": "2021-07-27T12:33:29.879760Z",
     "iopub.status.idle": "2021-07-27T12:41:11.538820Z",
     "shell.execute_reply": "2021-07-27T12:41:11.538085Z",
     "shell.execute_reply.started": "2021-07-27T08:24:44.309587Z"
    },
    "papermill": {
     "duration": 461.683068,
     "end_time": "2021-07-27T12:41:11.538976",
     "exception": false,
     "start_time": "2021-07-27T12:33:29.855908",
     "status": "completed"
    },
    "tags": []
   },
   "outputs": [
    {
     "name": "stdout",
     "output_type": "stream",
     "text": [
      "Train on 60000 samples\n",
      "Epoch 1/3\n",
      "60000/60000 [==============================] - 189s 3ms/sample - loss: 1.8789 - accuracy: 0.5837\n",
      "Epoch 2/3\n",
      "60000/60000 [==============================] - 178s 3ms/sample - loss: 1.8234 - accuracy: 0.6380\n",
      "Epoch 3/3\n",
      "60000/60000 [==============================] - 179s 3ms/sample - loss: 1.8139 - accuracy: 0.6470\n"
     ]
    },
    {
     "data": {
      "text/plain": [
       "<tensorflow.python.keras.callbacks.History at 0x27ebdbf29c8>"
      ]
     },
     "execution_count": 14,
     "metadata": {},
     "output_type": "execute_result"
    }
   ],
   "source": [
    "model.fit(train_images, train_labels, epochs=3)"
   ]
  },
  {
   "cell_type": "code",
   "execution_count": 15,
   "id": "ecbfcd5e",
   "metadata": {
    "execution": {
     "iopub.execute_input": "2021-07-27T12:41:15.946442Z",
     "iopub.status.busy": "2021-07-27T12:41:15.925508Z",
     "iopub.status.idle": "2021-07-27T12:41:18.470493Z",
     "shell.execute_reply": "2021-07-27T12:41:18.469926Z",
     "shell.execute_reply.started": "2021-07-27T08:31:51.606098Z"
    },
    "papermill": {
     "duration": 4.762529,
     "end_time": "2021-07-27T12:41:18.470692",
     "exception": false,
     "start_time": "2021-07-27T12:41:13.708163",
     "status": "completed"
    },
    "tags": []
   },
   "outputs": [
    {
     "name": "stdout",
     "output_type": "stream",
     "text": [
      "10000/10000 [==============================] - 11s 1ms/sample - loss: 1.7858 - accuracy: 0.6733\n",
      "\n",
      "Test accuracy: 0.6733\n"
     ]
    }
   ],
   "source": [
    "test_loss, test_acc = model.evaluate(test_images,  test_labels, verbose=1)\n",
    "\n",
    "print('\\nTest accuracy:', test_acc)\n"
   ]
  },
  {
   "cell_type": "markdown",
   "id": "6891074c",
   "metadata": {},
   "source": [
    "# what is the next step \n",
    "\n",
    "if an user enter to frontend -->\n",
    "shirt --> from the databse what ever the image is trained those imagew ill pop \n",
    "data base recommane pullover --> jeans \n",
    "\n",
    "recommonda engine -->\n",
    "item based \n",
    "produce based \n",
    "\n",
    "lets assure if front end user enter jeans -- \n",
    "\n",
    "60 jeans -- customer may like or may like\n",
    "\n",
    "2month - 1 cusoterm busy the jean ( 60 jean are out dated ( fashion is old) \n",
    "company grows or compnay loss \n",
    "\n",
    "compnay is lookin gor new fashion trend ( global market) \n",
    "\n",
    "AI CAN IMPLETE TO PRODUCT\n",
    "\n",
    "project -->\n",
    "chatgpt ( new fashion trend in jeasn with manufact)\n",
    "messo ( dire manuse top in dife) \n",
    "\n",
    "daata 60 jean ( 600 ea)\n",
    "customer visiot webste new updat fashion \n",
    "\n",
    "1day -- it grow (  customer use kie ) rate it \n",
    "compnay grows\n",
    "AI help you or not help you \n",
    "\n",
    "you train the image in india dress \n",
    "indina) mode\n",
    "\n",
    "indian model will run in america, \n",
    "model will urn is usa \n",
    "\n",
    "www. fahio.com\n",
    "\n",
    "fasiho.=. c - in \n",
    "fashion .com -- usa \n",
    "amazon.com\n",
    "clouse \n",
    "\n",
    "amazon - sage maker\n",
    "snowflake (cloud) \n",
    "\n",
    "\n",
    "most of the compnay they dont try to set up in theire own compay\n",
    "they alookin partner (new ai starup ventur) who can solve the business"
   ]
  }
 ],
 "metadata": {
  "kernelspec": {
   "display_name": "Python 3 (ipykernel)",
   "language": "python",
   "name": "python3"
  },
  "language_info": {
   "codemirror_mode": {
    "name": "ipython",
    "version": 3
   },
   "file_extension": ".py",
   "mimetype": "text/x-python",
   "name": "python",
   "nbconvert_exporter": "python",
   "pygments_lexer": "ipython3",
   "version": "3.9.16"
  },
  "papermill": {
   "default_parameters": {},
   "duration": 492.278649,
   "end_time": "2021-07-27T12:41:22.446169",
   "environment_variables": {},
   "exception": null,
   "input_path": "__notebook__.ipynb",
   "output_path": "__notebook__.ipynb",
   "parameters": {},
   "start_time": "2021-07-27T12:33:10.167520",
   "version": "2.3.3"
  }
 },
 "nbformat": 4,
 "nbformat_minor": 5
}
